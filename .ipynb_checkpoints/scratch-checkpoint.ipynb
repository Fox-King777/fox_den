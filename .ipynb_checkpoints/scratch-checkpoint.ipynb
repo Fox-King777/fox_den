{
 "cells": [
  {
   "cell_type": "markdown",
   "metadata": {},
   "source": [
    "## Sliding Window Exercise"
   ]
  },
  {
   "cell_type": "code",
   "execution_count": 5,
   "metadata": {},
   "outputs": [],
   "source": [
    "import numpy as np\n",
    "from typing import List, Tuple\n",
    "from collections import deque "
   ]
  },
  {
   "cell_type": "code",
   "execution_count": 40,
   "metadata": {},
   "outputs": [],
   "source": [
    "def sliding_window(window_len: int, arr: List) -> Iterable[Tuple[int, int]]:\n",
    "    if not window_len:\n",
    "        return\n",
    "    \n",
    "    running_window = deque(arr[:min(window_len, len(arr))])\n",
    "\n",
    "    for e in arr[min(window_len, len(arr)): len(arr)]:\n",
    "        yield tuple(running_window)\n",
    "\n",
    "        running_window.popleft()\n",
    "        running_window.append(e)\n",
    "    yield tuple(running_window)\n",
    "    "
   ]
  },
  {
   "cell_type": "code",
   "execution_count": 43,
   "metadata": {},
   "outputs": [
    {
     "data": {
      "text/plain": [
       "[(1, 2, 3, 4)]"
      ]
     },
     "execution_count": 43,
     "metadata": {},
     "output_type": "execute_result"
    }
   ],
   "source": [
    "list(sliding_window(5, [1, 2, 3, 4]))"
   ]
  },
  {
   "cell_type": "markdown",
   "metadata": {},
   "source": [
    "stream_with_window(['1', '2', '3', '4'], 2) => [('1', [], ['2', '3']), ('2', ['1'], ['3', '4']), ('3', ['1', '2'], ['4']), ('4', ['2', '3'], [] ]"
   ]
  },
  {
   "cell_type": "code",
   "execution_count": null,
   "metadata": {},
   "outputs": [],
   "source": [
    "def stream_with_window(arr: List, window_len: int) -> Iterbale[Tuple[int, List, List]]:\n",
    "    for window in sliding_window(window_len * 2 + 1, arr):\n",
    "        \n",
    "    "
   ]
  }
 ],
 "metadata": {
  "kernelspec": {
   "display_name": "Python 3 (ipykernel)",
   "language": "python",
   "name": "python3"
  },
  "language_info": {
   "codemirror_mode": {
    "name": "ipython",
    "version": 3
   },
   "file_extension": ".py",
   "mimetype": "text/x-python",
   "name": "python",
   "nbconvert_exporter": "python",
   "pygments_lexer": "ipython3",
   "version": "3.11.7"
  }
 },
 "nbformat": 4,
 "nbformat_minor": 4
}
